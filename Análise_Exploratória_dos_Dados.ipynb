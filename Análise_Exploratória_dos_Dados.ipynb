{
  "cells": [
    {
      "cell_type": "markdown",
      "metadata": {
        "id": "view-in-github",
        "colab_type": "text"
      },
      "source": [
        "<a href=\"https://colab.research.google.com/github/hashaski/Data_Base_Salario_Anual/blob/main/An%C3%A1lise_Explorat%C3%B3ria_dos_Dados.ipynb\" target=\"_parent\"><img src=\"https://colab.research.google.com/assets/colab-badge.svg\" alt=\"Open In Colab\"/></a>"
      ]
    },
    {
      "cell_type": "markdown",
      "metadata": {
        "id": "F2zNVFVjchLC"
      },
      "source": [
        "Import das bibliotecas e da base de dados."
      ]
    },
    {
      "cell_type": "code",
      "execution_count": 2,
      "metadata": {
        "colab": {
          "base_uri": "https://localhost:8080/",
          "height": 537
        },
        "id": "Zb6ppgvgISBo",
        "outputId": "8cf56d96-e6e9-4337-f367-ef0e12a538e5"
      },
      "outputs": [
        {
          "output_type": "execute_result",
          "data": {
            "text/plain": [
              "     Unnamed: 0  work_year experience_level employment_type  \\\n",
              "0             0       2020               MI              FT   \n",
              "1             1       2020               SE              FT   \n",
              "2             2       2020               SE              FT   \n",
              "3             3       2020               MI              FT   \n",
              "4             4       2020               SE              FT   \n",
              "..          ...        ...              ...             ...   \n",
              "602         602       2022               SE              FT   \n",
              "603         603       2022               SE              FT   \n",
              "604         604       2022               SE              FT   \n",
              "605         605       2022               SE              FT   \n",
              "606         606       2022               MI              FT   \n",
              "\n",
              "                      job_title  salary salary_currency  salary_in_usd  \\\n",
              "0                Data Scientist   70000             EUR          79833   \n",
              "1    Machine Learning Scientist  260000             USD         260000   \n",
              "2             Big Data Engineer   85000             GBP         109024   \n",
              "3          Product Data Analyst   20000             USD          20000   \n",
              "4     Machine Learning Engineer  150000             USD         150000   \n",
              "..                          ...     ...             ...            ...   \n",
              "602               Data Engineer  154000             USD         154000   \n",
              "603               Data Engineer  126000             USD         126000   \n",
              "604                Data Analyst  129000             USD         129000   \n",
              "605                Data Analyst  150000             USD         150000   \n",
              "606                AI Scientist  200000             USD         200000   \n",
              "\n",
              "    employee_residence  remote_ratio company_location company_size  \n",
              "0                   DE             0               DE            L  \n",
              "1                   JP             0               JP            S  \n",
              "2                   GB            50               GB            M  \n",
              "3                   HN             0               HN            S  \n",
              "4                   US            50               US            L  \n",
              "..                 ...           ...              ...          ...  \n",
              "602                 US           100               US            M  \n",
              "603                 US           100               US            M  \n",
              "604                 US             0               US            M  \n",
              "605                 US           100               US            M  \n",
              "606                 IN           100               US            L  \n",
              "\n",
              "[607 rows x 12 columns]"
            ],
            "text/html": [
              "\n",
              "  <div id=\"df-0e364fa2-f573-46c0-a4a6-23724dc434e9\">\n",
              "    <div class=\"colab-df-container\">\n",
              "      <div>\n",
              "<style scoped>\n",
              "    .dataframe tbody tr th:only-of-type {\n",
              "        vertical-align: middle;\n",
              "    }\n",
              "\n",
              "    .dataframe tbody tr th {\n",
              "        vertical-align: top;\n",
              "    }\n",
              "\n",
              "    .dataframe thead th {\n",
              "        text-align: right;\n",
              "    }\n",
              "</style>\n",
              "<table border=\"1\" class=\"dataframe\">\n",
              "  <thead>\n",
              "    <tr style=\"text-align: right;\">\n",
              "      <th></th>\n",
              "      <th>Unnamed: 0</th>\n",
              "      <th>work_year</th>\n",
              "      <th>experience_level</th>\n",
              "      <th>employment_type</th>\n",
              "      <th>job_title</th>\n",
              "      <th>salary</th>\n",
              "      <th>salary_currency</th>\n",
              "      <th>salary_in_usd</th>\n",
              "      <th>employee_residence</th>\n",
              "      <th>remote_ratio</th>\n",
              "      <th>company_location</th>\n",
              "      <th>company_size</th>\n",
              "    </tr>\n",
              "  </thead>\n",
              "  <tbody>\n",
              "    <tr>\n",
              "      <th>0</th>\n",
              "      <td>0</td>\n",
              "      <td>2020</td>\n",
              "      <td>MI</td>\n",
              "      <td>FT</td>\n",
              "      <td>Data Scientist</td>\n",
              "      <td>70000</td>\n",
              "      <td>EUR</td>\n",
              "      <td>79833</td>\n",
              "      <td>DE</td>\n",
              "      <td>0</td>\n",
              "      <td>DE</td>\n",
              "      <td>L</td>\n",
              "    </tr>\n",
              "    <tr>\n",
              "      <th>1</th>\n",
              "      <td>1</td>\n",
              "      <td>2020</td>\n",
              "      <td>SE</td>\n",
              "      <td>FT</td>\n",
              "      <td>Machine Learning Scientist</td>\n",
              "      <td>260000</td>\n",
              "      <td>USD</td>\n",
              "      <td>260000</td>\n",
              "      <td>JP</td>\n",
              "      <td>0</td>\n",
              "      <td>JP</td>\n",
              "      <td>S</td>\n",
              "    </tr>\n",
              "    <tr>\n",
              "      <th>2</th>\n",
              "      <td>2</td>\n",
              "      <td>2020</td>\n",
              "      <td>SE</td>\n",
              "      <td>FT</td>\n",
              "      <td>Big Data Engineer</td>\n",
              "      <td>85000</td>\n",
              "      <td>GBP</td>\n",
              "      <td>109024</td>\n",
              "      <td>GB</td>\n",
              "      <td>50</td>\n",
              "      <td>GB</td>\n",
              "      <td>M</td>\n",
              "    </tr>\n",
              "    <tr>\n",
              "      <th>3</th>\n",
              "      <td>3</td>\n",
              "      <td>2020</td>\n",
              "      <td>MI</td>\n",
              "      <td>FT</td>\n",
              "      <td>Product Data Analyst</td>\n",
              "      <td>20000</td>\n",
              "      <td>USD</td>\n",
              "      <td>20000</td>\n",
              "      <td>HN</td>\n",
              "      <td>0</td>\n",
              "      <td>HN</td>\n",
              "      <td>S</td>\n",
              "    </tr>\n",
              "    <tr>\n",
              "      <th>4</th>\n",
              "      <td>4</td>\n",
              "      <td>2020</td>\n",
              "      <td>SE</td>\n",
              "      <td>FT</td>\n",
              "      <td>Machine Learning Engineer</td>\n",
              "      <td>150000</td>\n",
              "      <td>USD</td>\n",
              "      <td>150000</td>\n",
              "      <td>US</td>\n",
              "      <td>50</td>\n",
              "      <td>US</td>\n",
              "      <td>L</td>\n",
              "    </tr>\n",
              "    <tr>\n",
              "      <th>...</th>\n",
              "      <td>...</td>\n",
              "      <td>...</td>\n",
              "      <td>...</td>\n",
              "      <td>...</td>\n",
              "      <td>...</td>\n",
              "      <td>...</td>\n",
              "      <td>...</td>\n",
              "      <td>...</td>\n",
              "      <td>...</td>\n",
              "      <td>...</td>\n",
              "      <td>...</td>\n",
              "      <td>...</td>\n",
              "    </tr>\n",
              "    <tr>\n",
              "      <th>602</th>\n",
              "      <td>602</td>\n",
              "      <td>2022</td>\n",
              "      <td>SE</td>\n",
              "      <td>FT</td>\n",
              "      <td>Data Engineer</td>\n",
              "      <td>154000</td>\n",
              "      <td>USD</td>\n",
              "      <td>154000</td>\n",
              "      <td>US</td>\n",
              "      <td>100</td>\n",
              "      <td>US</td>\n",
              "      <td>M</td>\n",
              "    </tr>\n",
              "    <tr>\n",
              "      <th>603</th>\n",
              "      <td>603</td>\n",
              "      <td>2022</td>\n",
              "      <td>SE</td>\n",
              "      <td>FT</td>\n",
              "      <td>Data Engineer</td>\n",
              "      <td>126000</td>\n",
              "      <td>USD</td>\n",
              "      <td>126000</td>\n",
              "      <td>US</td>\n",
              "      <td>100</td>\n",
              "      <td>US</td>\n",
              "      <td>M</td>\n",
              "    </tr>\n",
              "    <tr>\n",
              "      <th>604</th>\n",
              "      <td>604</td>\n",
              "      <td>2022</td>\n",
              "      <td>SE</td>\n",
              "      <td>FT</td>\n",
              "      <td>Data Analyst</td>\n",
              "      <td>129000</td>\n",
              "      <td>USD</td>\n",
              "      <td>129000</td>\n",
              "      <td>US</td>\n",
              "      <td>0</td>\n",
              "      <td>US</td>\n",
              "      <td>M</td>\n",
              "    </tr>\n",
              "    <tr>\n",
              "      <th>605</th>\n",
              "      <td>605</td>\n",
              "      <td>2022</td>\n",
              "      <td>SE</td>\n",
              "      <td>FT</td>\n",
              "      <td>Data Analyst</td>\n",
              "      <td>150000</td>\n",
              "      <td>USD</td>\n",
              "      <td>150000</td>\n",
              "      <td>US</td>\n",
              "      <td>100</td>\n",
              "      <td>US</td>\n",
              "      <td>M</td>\n",
              "    </tr>\n",
              "    <tr>\n",
              "      <th>606</th>\n",
              "      <td>606</td>\n",
              "      <td>2022</td>\n",
              "      <td>MI</td>\n",
              "      <td>FT</td>\n",
              "      <td>AI Scientist</td>\n",
              "      <td>200000</td>\n",
              "      <td>USD</td>\n",
              "      <td>200000</td>\n",
              "      <td>IN</td>\n",
              "      <td>100</td>\n",
              "      <td>US</td>\n",
              "      <td>L</td>\n",
              "    </tr>\n",
              "  </tbody>\n",
              "</table>\n",
              "<p>607 rows × 12 columns</p>\n",
              "</div>\n",
              "      <button class=\"colab-df-convert\" onclick=\"convertToInteractive('df-0e364fa2-f573-46c0-a4a6-23724dc434e9')\"\n",
              "              title=\"Convert this dataframe to an interactive table.\"\n",
              "              style=\"display:none;\">\n",
              "        \n",
              "  <svg xmlns=\"http://www.w3.org/2000/svg\" height=\"24px\"viewBox=\"0 0 24 24\"\n",
              "       width=\"24px\">\n",
              "    <path d=\"M0 0h24v24H0V0z\" fill=\"none\"/>\n",
              "    <path d=\"M18.56 5.44l.94 2.06.94-2.06 2.06-.94-2.06-.94-.94-2.06-.94 2.06-2.06.94zm-11 1L8.5 8.5l.94-2.06 2.06-.94-2.06-.94L8.5 2.5l-.94 2.06-2.06.94zm10 10l.94 2.06.94-2.06 2.06-.94-2.06-.94-.94-2.06-.94 2.06-2.06.94z\"/><path d=\"M17.41 7.96l-1.37-1.37c-.4-.4-.92-.59-1.43-.59-.52 0-1.04.2-1.43.59L10.3 9.45l-7.72 7.72c-.78.78-.78 2.05 0 2.83L4 21.41c.39.39.9.59 1.41.59.51 0 1.02-.2 1.41-.59l7.78-7.78 2.81-2.81c.8-.78.8-2.07 0-2.86zM5.41 20L4 18.59l7.72-7.72 1.47 1.35L5.41 20z\"/>\n",
              "  </svg>\n",
              "      </button>\n",
              "      \n",
              "  <style>\n",
              "    .colab-df-container {\n",
              "      display:flex;\n",
              "      flex-wrap:wrap;\n",
              "      gap: 12px;\n",
              "    }\n",
              "\n",
              "    .colab-df-convert {\n",
              "      background-color: #E8F0FE;\n",
              "      border: none;\n",
              "      border-radius: 50%;\n",
              "      cursor: pointer;\n",
              "      display: none;\n",
              "      fill: #1967D2;\n",
              "      height: 32px;\n",
              "      padding: 0 0 0 0;\n",
              "      width: 32px;\n",
              "    }\n",
              "\n",
              "    .colab-df-convert:hover {\n",
              "      background-color: #E2EBFA;\n",
              "      box-shadow: 0px 1px 2px rgba(60, 64, 67, 0.3), 0px 1px 3px 1px rgba(60, 64, 67, 0.15);\n",
              "      fill: #174EA6;\n",
              "    }\n",
              "\n",
              "    [theme=dark] .colab-df-convert {\n",
              "      background-color: #3B4455;\n",
              "      fill: #D2E3FC;\n",
              "    }\n",
              "\n",
              "    [theme=dark] .colab-df-convert:hover {\n",
              "      background-color: #434B5C;\n",
              "      box-shadow: 0px 1px 3px 1px rgba(0, 0, 0, 0.15);\n",
              "      filter: drop-shadow(0px 1px 2px rgba(0, 0, 0, 0.3));\n",
              "      fill: #FFFFFF;\n",
              "    }\n",
              "  </style>\n",
              "\n",
              "      <script>\n",
              "        const buttonEl =\n",
              "          document.querySelector('#df-0e364fa2-f573-46c0-a4a6-23724dc434e9 button.colab-df-convert');\n",
              "        buttonEl.style.display =\n",
              "          google.colab.kernel.accessAllowed ? 'block' : 'none';\n",
              "\n",
              "        async function convertToInteractive(key) {\n",
              "          const element = document.querySelector('#df-0e364fa2-f573-46c0-a4a6-23724dc434e9');\n",
              "          const dataTable =\n",
              "            await google.colab.kernel.invokeFunction('convertToInteractive',\n",
              "                                                     [key], {});\n",
              "          if (!dataTable) return;\n",
              "\n",
              "          const docLinkHtml = 'Like what you see? Visit the ' +\n",
              "            '<a target=\"_blank\" href=https://colab.research.google.com/notebooks/data_table.ipynb>data table notebook</a>'\n",
              "            + ' to learn more about interactive tables.';\n",
              "          element.innerHTML = '';\n",
              "          dataTable['output_type'] = 'display_data';\n",
              "          await google.colab.output.renderOutput(dataTable, element);\n",
              "          const docLink = document.createElement('div');\n",
              "          docLink.innerHTML = docLinkHtml;\n",
              "          element.appendChild(docLink);\n",
              "        }\n",
              "      </script>\n",
              "    </div>\n",
              "  </div>\n",
              "  "
            ]
          },
          "metadata": {},
          "execution_count": 2
        }
      ],
      "source": [
        "import numpy as np\n",
        "import pandas as pd\n",
        "import scipy.stats as sp\n",
        "import matplotlib.pyplot as plt\n",
        "\n",
        "url = 'https://raw.githubusercontent.com/hashaski/Data_Base_Salario_Anual/main/ds_salaries.csv'\n",
        "\n",
        "salario_anual = pd.read_csv(url)\n",
        "\n",
        "salario_anual"
      ]
    },
    {
      "cell_type": "markdown",
      "metadata": {
        "id": "IVGgLz39gjKK"
      },
      "source": [
        "Separando os dados que é do meu interesse, em que nesse caso seria os salários em USD."
      ]
    },
    {
      "cell_type": "code",
      "execution_count": 3,
      "metadata": {
        "colab": {
          "base_uri": "https://localhost:8080/"
        },
        "id": "3UIf1YSPcU01",
        "outputId": "45cd05b1-59f2-4231-ae2a-b40b8dc22082"
      },
      "outputs": [
        {
          "output_type": "stream",
          "name": "stdout",
          "text": [
            "0       79833\n",
            "1      260000\n",
            "2      109024\n",
            "3       20000\n",
            "4      150000\n",
            "        ...  \n",
            "602    154000\n",
            "603    126000\n",
            "604    129000\n",
            "605    150000\n",
            "606    200000\n",
            "Name: salary_in_usd, Length: 607, dtype: int64\n"
          ]
        }
      ],
      "source": [
        "salario_anual_usd = salario_anual.salary_in_usd\n",
        "print(salario_anual_usd)"
      ]
    },
    {
      "cell_type": "markdown",
      "metadata": {
        "id": "QEibAkBlgoAg"
      },
      "source": [
        "Média feita usando a biblioteca Numpy e manualmente."
      ]
    },
    {
      "cell_type": "code",
      "execution_count": 4,
      "metadata": {
        "colab": {
          "base_uri": "https://localhost:8080/"
        },
        "id": "B0Xeus3gdshG",
        "outputId": "08f8edf7-214c-4a10-f013-cf0ad11f20e8"
      },
      "outputs": [
        {
          "output_type": "stream",
          "name": "stdout",
          "text": [
            "A média dos salários anuais em USD feita usando a biblioteca numpy é 112297.87\n",
            "A média manual dos salários anuais em USD é 112297.87\n"
          ]
        }
      ],
      "source": [
        "media = np.mean(salario_anual_usd)\n",
        "print(f'A média dos salários anuais em USD feita usando a biblioteca numpy é {media:.2f}')\n",
        "\n",
        "def media_manual(list):\n",
        "  return sum(list) / len(list)\n",
        "\n",
        "print(f'A média manual dos salários anuais em USD é {media_manual(salario_anual_usd):.2f}')"
      ]
    },
    {
      "cell_type": "markdown",
      "metadata": {
        "id": "sNgOqVHIjM9a"
      },
      "source": [
        "Mediana feita usando a biblioteca Numpy e manualmente."
      ]
    },
    {
      "cell_type": "code",
      "execution_count": 5,
      "metadata": {
        "colab": {
          "base_uri": "https://localhost:8080/"
        },
        "id": "jiJF6dc3iMZh",
        "outputId": "29c4a0da-a7d8-4a83-f4db-1a1e140e05a7"
      },
      "outputs": [
        {
          "output_type": "stream",
          "name": "stdout",
          "text": [
            "A mediana dos salários anuais em USD feita usando a biblioteca numpy é 101570.0\n",
            "A mediana manual dos salários anuais em USD é 101570.0\n"
          ]
        }
      ],
      "source": [
        "mediana = np.median(salario_anual_usd)\n",
        "print(f'A mediana dos salários anuais em USD feita usando a biblioteca numpy é {mediana}')\n",
        "\n",
        "def mediana_manual(list):\n",
        "  list = sorted(list)\n",
        "  if len(list) % 2 == 0:\n",
        "    return (list[len(list) // 2] + list[(len(list) // 2) - 1]) / 2\n",
        "  else:\n",
        "    return list[len(list) // 2]\n",
        "\n",
        "print(f'A mediana manual dos salários anuais em USD é {mediana_manual(salario_anual_usd):.1f}')"
      ]
    },
    {
      "cell_type": "markdown",
      "metadata": {
        "id": "Wtp7lauXozCB"
      },
      "source": [
        "Variância populacional e amostral usando a biblioteca Numpy e manualmente."
      ]
    },
    {
      "cell_type": "code",
      "execution_count": 6,
      "metadata": {
        "colab": {
          "base_uri": "https://localhost:8080/"
        },
        "id": "JW5Xj0GOjQVO",
        "outputId": "1dbac71c-e4eb-4241-9a5d-fa792b8668a2"
      },
      "outputs": [
        {
          "output_type": "stream",
          "name": "stdout",
          "text": [
            "A variância populacional dos salários anuais feita usando a biblioteca numpy é 5026637881.19\n",
            "A variância populacional manual dos salários anuais é 5026637881.19\n",
            "\n",
            "A variância amostral dos salários anuais feita usando a biblioteca numpy é 5034932663.18\n",
            "A variância amostral manual dos salários anuais é 5034932663.18\n"
          ]
        }
      ],
      "source": [
        "#'ddof' se refere ao grau de liberdade dos dados.\n",
        "\n",
        "variancia_populacional = np.var(salario_anual_usd, ddof = 0)\n",
        "print(f'A variância populacional dos salários anuais feita usando a biblioteca numpy é {variancia_populacional:.2f}')\n",
        "\n",
        "def variancia_pop_manual(list):\n",
        "  soma = 0\n",
        "  for i in range(len(list)):\n",
        "    soma += (list[i] - media_manual(list)) ** 2\n",
        "  return soma / len(list)\n",
        "\n",
        "print(f'A variância populacional manual dos salários anuais é {variancia_pop_manual(salario_anual_usd):.2f}\\n')\n",
        "\n",
        "\n",
        "variancia_amostral = np.var(salario_anual_usd, ddof = 1)\n",
        "print(f'A variância amostral dos salários anuais feita usando a biblioteca numpy é {variancia_amostral:.2f}')\n",
        "\n",
        "def variancia_amos_manual(list):\n",
        "  soma = 0\n",
        "  for i in range(len(list)):\n",
        "    soma += (list[i] - media_manual(list)) ** 2\n",
        "  return soma / (len(list) - 1)\n",
        "\n",
        "print(f'A variância amostral manual dos salários anuais é {variancia_amos_manual(salario_anual_usd):.2f}')"
      ]
    },
    {
      "cell_type": "markdown",
      "metadata": {
        "id": "uZokGATHo5T_"
      },
      "source": [
        "Desvio padrão populacional e amostral usando a biblioteca Numpy e manualmente."
      ]
    },
    {
      "cell_type": "code",
      "execution_count": 7,
      "metadata": {
        "colab": {
          "base_uri": "https://localhost:8080/"
        },
        "id": "R4mepHVso44V",
        "outputId": "4f2a4dfd-70ff-471a-c8db-1cb9ff8106fb"
      },
      "outputs": [
        {
          "output_type": "stream",
          "name": "stdout",
          "text": [
            "O desvio padrão populacional dos salários anuais feito usando a biblioteca numpy é 70898.79\n",
            "O desvio padrão populacional manual dos salários anuais é 70898.79\n",
            "\n",
            "O desvio padrão amostral dos salários anuais feito usando a biblioteca numpy é 70957.26\n",
            "O desvio padrão amostral manual dos salários anuais é 70957.26\n"
          ]
        }
      ],
      "source": [
        "#'ddof' se refere ao grau de liberdade dos dados.\n",
        "\n",
        "desvio_populacional = np.std(salario_anual_usd, ddof = 0)\n",
        "print(f'O desvio padrão populacional dos salários anuais feito usando a biblioteca numpy é {desvio_populacional:.2f}')\n",
        "\n",
        "def desvio_populacional_manual(list):\n",
        "  return variancia_pop_manual(list) ** 0.5\n",
        "\n",
        "print(f'O desvio padrão populacional manual dos salários anuais é {desvio_populacional_manual(salario_anual_usd):.2f}\\n')\n",
        "\n",
        "desvio_amostral = np.std(salario_anual_usd, ddof = 1)\n",
        "print(f'O desvio padrão amostral dos salários anuais feito usando a biblioteca numpy é {desvio_amostral:.2f}')\n",
        "\n",
        "def desvio_amostral_manual(list):\n",
        "  return variancia_amos_manual(list) ** 0.5\n",
        "\n",
        "print(f'O desvio padrão amostral manual dos salários anuais é {desvio_amostral_manual(salario_anual_usd):.2f}')"
      ]
    },
    {
      "cell_type": "markdown",
      "metadata": {
        "id": "ar5wm0szHV_5"
      },
      "source": [
        "Coeficiente de variação populacional e amostral manualmente."
      ]
    },
    {
      "cell_type": "code",
      "execution_count": 8,
      "metadata": {
        "id": "5TAsGUyIHTGW",
        "colab": {
          "base_uri": "https://localhost:8080/"
        },
        "outputId": "d2c00a78-dc83-4b19-f0fa-59c4de308b3f"
      },
      "outputs": [
        {
          "output_type": "stream",
          "name": "stdout",
          "text": [
            "O coeficiente populacional manual dos dados simulados é 63.13%\n",
            "\n",
            "O coeficiente amostral manual dos dados simulados é 63.19%\n"
          ]
        }
      ],
      "source": [
        "def coeficiente_pop(list):\n",
        "    return (desvio_populacional_manual(list) / media_manual(list)) * 100\n",
        "print(f'O coeficiente populacional manual dos dados simulados é {coeficiente_pop(salario_anual_usd):.2f}%\\n')\n",
        "\n",
        "\n",
        "def coeficiente_amos(list):\n",
        "    return (desvio_amostral_manual(list) / media_manual(list)) * 100\n",
        "print(f'O coeficiente amostral manual dos dados simulados é {coeficiente_amos(salario_anual_usd):.2f}%')"
      ]
    },
    {
      "cell_type": "markdown",
      "metadata": {
        "id": "y3qP1PHyORmR"
      },
      "source": [
        "Quartis usando a biblioteca Scipy e manualmente."
      ]
    },
    {
      "cell_type": "code",
      "execution_count": 9,
      "metadata": {
        "colab": {
          "base_uri": "https://localhost:8080/"
        },
        "id": "J0q4M8O3ORV-",
        "outputId": "c1d2b43f-98d9-4100-f8b7-1d07f72650fd"
      },
      "outputs": [
        {
          "output_type": "stream",
          "name": "stdout",
          "text": [
            "O primeiro quartil dos salários é 62726.0\n",
            "O primeiro quartil manual dos salários é 62726.0\n",
            "\n",
            "O terceiro quartil dos salários é 150000.0\n",
            "O terceiro quartil manual dos salários é 150000.0\n"
          ]
        }
      ],
      "source": [
        "quartil_1 = sp.scoreatpercentile(salario_anual_usd, 25)\n",
        "print(f'O primeiro quartil dos salários é {quartil_1}')\n",
        "\n",
        "def quartil_1_manual(list):\n",
        "    list = sorted(list)\n",
        "    orig_median = mediana_manual(list)\n",
        "    while max(list) >= orig_median:\n",
        "        list.remove(max(list))\n",
        "    return mediana_manual(list)\n",
        "print(f'O primeiro quartil manual dos salários é {quartil_1_manual(salario_anual_usd):.1f}\\n')\n",
        "\n",
        "\n",
        "quartil_3 = sp.scoreatpercentile(salario_anual_usd, 75)\n",
        "print(f'O terceiro quartil dos salários é {quartil_3}')\n",
        "\n",
        "def quartil_3_manual(list):\n",
        "    list = sorted(list)\n",
        "    orig_median = mediana_manual(list)\n",
        "    while min(list) <= orig_median:\n",
        "        list.remove(min(list))\n",
        "    return mediana_manual(list)\n",
        "print(f'O terceiro quartil manual dos salários é {quartil_3_manual(salario_anual_usd):.1f}')"
      ]
    },
    {
      "cell_type": "markdown",
      "source": [
        "Histograma usando o Matplotlib."
      ],
      "metadata": {
        "id": "V88wsRA5iyHK"
      }
    },
    {
      "cell_type": "code",
      "source": [
        "plt.title('Salários em USD')\n",
        "plt.hist(salario_anual_usd)\n"
      ],
      "metadata": {
        "colab": {
          "base_uri": "https://localhost:8080/",
          "height": 350
        },
        "id": "PwTjq_4iix6o",
        "outputId": "63ca44ba-c55f-4822-bde9-327e752f9993"
      },
      "execution_count": 10,
      "outputs": [
        {
          "output_type": "execute_result",
          "data": {
            "text/plain": [
              "(array([149., 228., 149.,  61.,  10.,   2.,   4.,   3.,   0.,   1.]),\n",
              " array([  2859. ,  62573.1, 122287.2, 182001.3, 241715.4, 301429.5,\n",
              "        361143.6, 420857.7, 480571.8, 540285.9, 600000. ]),\n",
              " <a list of 10 Patch objects>)"
            ]
          },
          "metadata": {},
          "execution_count": 10
        },
        {
          "output_type": "display_data",
          "data": {
            "text/plain": [
              "<Figure size 432x288 with 1 Axes>"
            ],
            "image/png": "[encoded data removed]"
          },
          "metadata": {
            "needs_background": "light"
          }
        }
      ]
    },
    {
      "cell_type": "markdown",
      "source": [
        "Boxplot usando o Matplotlib."
      ],
      "metadata": {
        "id": "ZcgAS-xrkSEz"
      }
    },
    {
      "cell_type": "code",
      "source": [
        "plt.title('Salários em USD')\n",
        "plt.boxplot(salario_anual_usd)"
      ],
      "metadata": {
        "colab": {
          "base_uri": "https://localhost:8080/",
          "height": 420
        },
        "id": "V5XUOUW9kR7U",
        "outputId": "31e37c49-83a2-45fd-c270-007f2433f5da"
      },
      "execution_count": 11,
      "outputs": [
        {
          "output_type": "execute_result",
          "data": {
            "text/plain": [
              "{'whiskers': [<matplotlib.lines.Line2D at 0x7f74f69ef350>,\n",
              "  <matplotlib.lines.Line2D at 0x7f74f69ef890>],\n",
              " 'caps': [<matplotlib.lines.Line2D at 0x7f74f69efdd0>,\n",
              "  <matplotlib.lines.Line2D at 0x7f74f69f7350>],\n",
              " 'boxes': [<matplotlib.lines.Line2D at 0x7f74f69e7d90>],\n",
              " 'medians': [<matplotlib.lines.Line2D at 0x7f74f69f78d0>],\n",
              " 'fliers': [<matplotlib.lines.Line2D at 0x7f74f69f7e10>],\n",
              " 'means': []}"
            ]
          },
          "metadata": {},
          "execution_count": 11
        },
        {
          "output_type": "display_data",
          "data": {
            "text/plain": [
              "<Figure size 432x288 with 1 Axes>"
            ],
            "image/png": "[encoded data removed]"
          },
          "metadata": {
            "needs_background": "light"
          }
        }
      ]
    }
  ],
  "metadata": {
    "colab": {
      "collapsed_sections": [],
      "provenance": [],
      "authorship_tag": "ABX9TyMUz+7Y5EGJ1rXGk+KfjtJ8",
      "include_colab_link": true
    },
    "kernelspec": {
      "display_name": "Python 3",
      "name": "python3"
    },
    "language_info": {
      "name": "python"
    }
  },
  "nbformat": 4,
  "nbformat_minor": 0
}